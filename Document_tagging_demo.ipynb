{
  "nbformat": 4,
  "nbformat_minor": 0,
  "metadata": {
    "colab": {
      "provenance": []
    },
    "kernelspec": {
      "name": "python3",
      "display_name": "Python 3"
    },
    "language_info": {
      "name": "python"
    }
  },
  "cells": [
    {
      "cell_type": "markdown",
      "source": [
        "# Document tagging demo"
      ],
      "metadata": {
        "id": "PhdGbSZmdBHV"
      }
    },
    {
      "cell_type": "markdown",
      "source": [
        "## Step 1: Install Necessary Libraries"
      ],
      "metadata": {
        "id": "9b6ilo5-gPKp"
      }
    },
    {
      "cell_type": "code",
      "execution_count": null,
      "metadata": {
        "id": "xu6Y1FX9c-pi"
      },
      "outputs": [],
      "source": [
        "%pip install --upgrade --quiet  langchain langchain-openai\n",
        "\n",
        "!pip install langchain pymupdf"
      ]
    },
    {
      "cell_type": "code",
      "source": [
        "import os\n",
        "os.environ['OPENAI_API_KEY'] = \"YOUR OPENAI KEY HERE!!\""
      ],
      "metadata": {
        "id": "nYjbCVvAfP1V"
      },
      "execution_count": 1,
      "outputs": []
    },
    {
      "cell_type": "markdown",
      "source": [
        "## Step 2: Read in a PDF Document"
      ],
      "metadata": {
        "id": "NEEoaPJRgR29"
      }
    },
    {
      "cell_type": "code",
      "source": [
        "import fitz  # PyMuPDF\n",
        "\n",
        "docname = ## Enter the name of your .pdf document here!\n",
        "\n",
        "# Open the PDF file\n",
        "with fitz.open(docname) as doc:\n",
        "    text = \"\"\n",
        "    for page in doc:\n",
        "        text += page.get_text()"
      ],
      "metadata": {
        "id": "ys2hbLBCdGW7"
      },
      "execution_count": 10,
      "outputs": []
    },
    {
      "cell_type": "markdown",
      "source": [
        "## Step 3: Extract Metadata"
      ],
      "metadata": {
        "id": "_s5EYpCggYq-"
      }
    },
    {
      "cell_type": "code",
      "source": [
        "metadata = doc.metadata"
      ],
      "metadata": {
        "id": "cX4EcjrRdqup"
      },
      "execution_count": 11,
      "outputs": []
    },
    {
      "cell_type": "markdown",
      "source": [
        "## Step 4: Use Langchain for Language Detection and Tagging"
      ],
      "metadata": {
        "id": "vID-CzQhgeB0"
      }
    },
    {
      "cell_type": "code",
      "source": [
        "from langchain.chains import create_tagging_chain, create_tagging_chain_pydantic\n",
        "from langchain_openai import ChatOpenAI\n",
        "\n",
        "# Schema\n",
        "\n",
        "schema = {\n",
        "    \"properties\": {\n",
        "        \"language\": {\n",
        "            \"type\": \"string\",\n",
        "            \"enum\": [\"spanish\", \"english\", \"french\", \"german\", \"italian\", \"dutch\"],\n",
        "            \"description\": \"the primary language the document is written in\",\n",
        "        },\n",
        "\n",
        "        \"sentiment\": {\n",
        "            \"type\": \"string\",\n",
        "            \"enum\": [\"positive\", \"neutral\", \"negative\"],\n",
        "            \"description\": \"describes the overall sentiment of the text\",\n",
        "        },\n",
        "\n",
        "\n",
        "        \"type\": {\n",
        "            \"type\": \"string\",\n",
        "            \"enum\": [\"research\", \"financial\", \"legal\", \"technical\", \"business\", \"resume\", \"correspondence\", \"forms\", \"policy\", \"marketing\", \"presentations\", \"multimedia\", \"educational\"],\n",
        "            \"description\": \"describes the category of the document\",\n",
        "        },\n",
        "\n",
        "        \"style\": {\n",
        "            \"type\": \"string\",\n",
        "            \"enum\": [\"professional\", \"formal\", \"informal\"],\n",
        "            \"description\": \"describes the writing style of the document\",\n",
        "        },\n",
        "    },\n",
        "    \"required\": [\"language\", \"sentiment\", \"type\", \"style\"],\n",
        "}\n",
        "\n",
        "# LLM\n",
        "llm = ChatOpenAI(temperature=0, model=\"gpt-3.5-turbo-0613\")\n",
        "chain = create_tagging_chain(schema, llm)\n"
      ],
      "metadata": {
        "id": "ywG_ZdzteHwi"
      },
      "execution_count": 34,
      "outputs": []
    },
    {
      "cell_type": "code",
      "source": [
        "chain.run(text)"
      ],
      "metadata": {
        "id": "v3rm8HRUgKLD"
      },
      "execution_count": null,
      "outputs": []
    }
  ]
}
